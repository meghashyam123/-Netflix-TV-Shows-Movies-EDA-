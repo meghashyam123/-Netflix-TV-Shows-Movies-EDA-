{
  "nbformat": 4,
  "nbformat_minor": 0,
  "metadata": {
    "colab": {
      "private_outputs": true,
      "provenance": [],
      "collapsed_sections": [
        "mDgbUHAGgjLW"
      ]
    },
    "kernelspec": {
      "name": "python3",
      "display_name": "Python 3"
    },
    "language_info": {
      "name": "python"
    }
  },
  "cells": [
    {
      "cell_type": "markdown",
      "source": [
        "# **Project Name**    - 🎬 Netflix TV Shows & Movies EDA 📊\n",
        "\n",
        "\n",
        "\n",
        "\n"
      ],
      "metadata": {
        "id": "vncDsAP0Gaoa"
      }
    },
    {
      "cell_type": "markdown",
      "source": [
        "##### **Project Type**    - EDA\n",
        "##### **Contribution**    - Individual\n",
        "##### Team Member 1 - Meghashyam Parab\n"
      ],
      "metadata": {
        "id": "beRrZCGUAJYm"
      }
    },
    {
      "cell_type": "markdown",
      "source": [
        "# **Project Summary -**"
      ],
      "metadata": {
        "id": "FJNUwmbgGyua"
      }
    },
    {
      "cell_type": "markdown",
      "source": [
        "📺 Netflix TV Shows & Movies EDA 📊\n",
        "\n",
        "Uncovering Hidden Stories in Streaming Data\n",
        "\n",
        "Welcome to an in-depth exploratory data analysis of Netflix’s vast catalog of movies and TV shows! This project dives into the patterns, trends, and hidden insights that shape what we stream—from binge-worthy series to timeless cinema.\n",
        "\n",
        "----\n",
        "\n",
        "🔍 Project Highlights:\n",
        "\n",
        "1. 🧹 Cleaned & Preprocessed a dataset of 7,700+ Netflix titles\n",
        "\n",
        "2. 📈 Visualized trends in release years, durations, and content types\n",
        "\n",
        "3. 🌍 Mapped country-wise content distribution and director stats\n",
        "\n",
        "4. 🧠 Performed Clustering to group similar content for smarter recommendations\n",
        "\n",
        "5. ✨ Extracted features like title length, season count, and genre categories\n",
        "\n",
        "-----\n",
        "\n",
        "\n",
        "\n",
        "🎯 Objective:\n",
        "\n",
        "To discover meaningful patterns that can enhance Netflix’s recommendation system, content tagging, and strategic planning using unsupervised learning and visual storytelling.\n",
        "\n",
        "----\n",
        "\n",
        "🔧 Tech Stack:\n",
        "\n",
        "1. Python, Pandas, NumPy\n",
        "\n",
        "2. Matplotlib, Seaborn, Plotly\n",
        "\n",
        "3. Scikit-learn (Clustering: K-Means, DBSCAN)\n",
        "\n",
        "4. Jupyter Notebook\n",
        "\n"
      ],
      "metadata": {
        "id": "F6v_1wHtG2nS"
      }
    },
    {
      "cell_type": "markdown",
      "source": [
        "# **GitHub Link -**"
      ],
      "metadata": {
        "id": "w6K7xa23Elo4"
      }
    },
    {
      "cell_type": "markdown",
      "source": [
        "https://github.com/meghashyam123/-Netflix-TV-Shows-Movies-EDA-"
      ],
      "metadata": {
        "id": "h1o69JH3Eqqn"
      }
    },
    {
      "cell_type": "markdown",
      "source": [
        "# **Problem Statement**\n"
      ],
      "metadata": {
        "id": "yQaldy8SH6Dl"
      }
    },
    {
      "cell_type": "markdown",
      "source": [
        "\"Clustering Netflix Titles Based on Numerical Attributes to Uncover Content Similarities\"\n",
        "\n",
        "Netflix has a vast and diverse content library that includes movies and TV shows from various countries, genres, durations, and years. To enhance content organization, recommendation engines, and user experience, it is beneficial to group similar titles based on measurable features.\n",
        "\n",
        "The objective of this project is to:\n",
        "\n",
        "1. Analyze and preprocess Netflix titles using attributes such as release_year, duration, and title_length.\n",
        "\n",
        "2. Apply clustering algorithms (e.g., K-Means, DBSCAN, Hierarchical) to uncover hidden patterns or natural groupings in the data.\n",
        "\n",
        "3. Interpret the clusters to understand common traits among grouped content (e.g., short TV shows from the 2010s, or long-duration movies with long titles).\n",
        "\n",
        "4. Visualize the results for stakeholders to better understand Netflix's content structure."
      ],
      "metadata": {
        "id": "DpeJGUA3kjGy"
      }
    },
    {
      "cell_type": "markdown",
      "source": [
        "#### **Define Your Business Objective?**"
      ],
      "metadata": {
        "id": "PH-0ReGfmX4f"
      }
    },
    {
      "cell_type": "markdown",
      "source": [
        "✅ Key Goals:\n",
        "\n",
        "1. Enhance User Experience:\n",
        "By clustering content based on key attributes (e.g., duration, release year, and title length), we can enable smarter recommendation engines that suggest similar content to users.\n",
        "\n",
        "2. Support Content Curation & Tagging:\n",
        "Automatically discover patterns in content characteristics to assist editors and content strategists in organizing and tagging content efficiently.\n",
        "\n",
        "3. Identify Content Trends:\n",
        "Understand clusters of content types (e.g., short series from recent years vs. long classic films) to inform future production or licensing strategies."
      ],
      "metadata": {
        "id": "PhDvGCAqmjP1"
      }
    },
    {
      "cell_type": "markdown",
      "source": [
        "# **General Guidelines** : -  "
      ],
      "metadata": {
        "id": "mDgbUHAGgjLW"
      }
    },
    {
      "cell_type": "markdown",
      "source": [
        "1.   Well-structured, formatted, and commented code is required.\n",
        "2.   Exception Handling, Production Grade Code & Deployment Ready Code will be a plus. Those students will be awarded some additional credits.\n",
        "     \n",
        "     The additional credits will have advantages over other students during Star Student selection.\n",
        "       \n",
        "             [ Note: - Deployment Ready Code is defined as, the whole .ipynb notebook should be executable in one go\n",
        "                       without a single error logged. ]\n",
        "\n",
        "3.   Each and every logic should have proper comments.\n",
        "4. You may add as many number of charts you want. Make Sure for each and every chart the following format should be answered.\n",
        "        \n",
        "\n",
        "```\n",
        "# Chart visualization code\n",
        "```\n",
        "            \n",
        "\n",
        "*   Why did you pick the specific chart?\n",
        "*   What is/are the insight(s) found from the chart?\n",
        "* Will the gained insights help creating a positive business impact?\n",
        "Are there any insights that lead to negative growth? Justify with specific reason.\n",
        "\n",
        "5. You have to create at least 20 logical & meaningful charts having important insights.\n",
        "\n",
        "\n",
        "[ Hints : - Do the Vizualization in  a structured way while following \"UBM\" Rule.\n",
        "\n",
        "U - Univariate Analysis,\n",
        "\n",
        "B - Bivariate Analysis (Numerical - Categorical, Numerical - Numerical, Categorical - Categorical)\n",
        "\n",
        "M - Multivariate Analysis\n",
        " ]\n",
        "\n",
        "\n",
        "\n"
      ],
      "metadata": {
        "id": "ZrxVaUj-hHfC"
      }
    },
    {
      "cell_type": "markdown",
      "source": [
        "# ***Let's Begin !***"
      ],
      "metadata": {
        "id": "O_i_v8NEhb9l"
      }
    },
    {
      "cell_type": "markdown",
      "source": [
        "## ***1. Know Your Data***"
      ],
      "metadata": {
        "id": "HhfV-JJviCcP"
      }
    },
    {
      "cell_type": "markdown",
      "source": [
        "### Import Libraries"
      ],
      "metadata": {
        "id": "Y3lxredqlCYt"
      }
    },
    {
      "cell_type": "code",
      "source": [
        "# Import Libraries\n",
        "\n",
        "import numpy as np\n",
        "import seaborn as sns\n",
        "import pandas as pd\n",
        "import matplotlib.pyplot as plt\n"
      ],
      "metadata": {
        "id": "M8Vqi-pPk-HR"
      },
      "execution_count": null,
      "outputs": []
    },
    {
      "cell_type": "markdown",
      "source": [
        "### Dataset Loading"
      ],
      "metadata": {
        "id": "3RnN4peoiCZX"
      }
    },
    {
      "cell_type": "code",
      "source": [
        "# Load Dataset\n",
        "\n",
        "df = pd.read_csv('/content/NETFLIX MOVIES AND TV SHOWS CLUSTERING.csv')"
      ],
      "metadata": {
        "id": "4CkvbW_SlZ_R"
      },
      "execution_count": null,
      "outputs": []
    },
    {
      "cell_type": "markdown",
      "source": [
        "### Dataset First View"
      ],
      "metadata": {
        "id": "x71ZqKXriCWQ"
      }
    },
    {
      "cell_type": "code",
      "source": [
        "# Dataset First Look\n",
        "\n",
        "df.head()"
      ],
      "metadata": {
        "id": "LWNFOSvLl09H"
      },
      "execution_count": null,
      "outputs": []
    },
    {
      "cell_type": "markdown",
      "source": [
        "### Dataset Rows & Columns count"
      ],
      "metadata": {
        "id": "7hBIi_osiCS2"
      }
    },
    {
      "cell_type": "code",
      "source": [
        "# Dataset Rows & Columns count\n",
        "\n",
        "df.shape"
      ],
      "metadata": {
        "id": "Kllu7SJgmLij"
      },
      "execution_count": null,
      "outputs": []
    },
    {
      "cell_type": "markdown",
      "source": [
        "### Dataset Information"
      ],
      "metadata": {
        "id": "JlHwYmJAmNHm"
      }
    },
    {
      "cell_type": "code",
      "source": [
        "# Dataset Info\n",
        "\n",
        "df.info()"
      ],
      "metadata": {
        "id": "e9hRXRi6meOf"
      },
      "execution_count": null,
      "outputs": []
    },
    {
      "cell_type": "markdown",
      "source": [
        "#### Duplicate Values"
      ],
      "metadata": {
        "id": "35m5QtbWiB9F"
      }
    },
    {
      "cell_type": "code",
      "source": [
        "# Dataset Duplicate Value Count\n",
        "\n",
        "num_duplicates = df.duplicated().sum()\n",
        "print(f\"Number of duplicate rows: {num_duplicates}\")"
      ],
      "metadata": {
        "id": "1sLdpKYkmox0"
      },
      "execution_count": null,
      "outputs": []
    },
    {
      "cell_type": "markdown",
      "source": [
        "#### Missing Values/Null Values"
      ],
      "metadata": {
        "id": "PoPl-ycgm1ru"
      }
    },
    {
      "cell_type": "code",
      "source": [
        "# Missing Values/Null Values Count\n",
        "\n",
        "# Missing Values/Null Values Count\n",
        "df.isnull().sum()"
      ],
      "metadata": {
        "id": "GgHWkxvamxVg"
      },
      "execution_count": null,
      "outputs": []
    },
    {
      "cell_type": "code",
      "source": [
        "# Visualizing the missing values\n",
        "\n",
        "\n",
        "# Heatmap\n",
        "plt.figure(figsize=(10, 6))  # Adjust figure size if needed\n",
        "sns.heatmap(df.isnull(), cbar=False, cmap='viridis')\n",
        "plt.title('Missing Values Heatmap')\n",
        "plt.show()\n",
        "\n",
        "# Bar chart\n",
        "missing_values = df.isnull().sum()\n",
        "missing_values = missing_values[missing_values > 0]  # Filter out columns with no missing values\n",
        "\n",
        "plt.figure(figsize=(10, 6))\n",
        "missing_values.plot(kind='bar')\n",
        "plt.title('Missing Values by Column')\n",
        "plt.xlabel('Columns')\n",
        "plt.ylabel('Number of Missing Values')\n",
        "plt.show()"
      ],
      "metadata": {
        "id": "3q5wnI3om9sJ"
      },
      "execution_count": null,
      "outputs": []
    },
    {
      "cell_type": "markdown",
      "source": [
        "### What did you know about your dataset?"
      ],
      "metadata": {
        "id": "H0kj-8xxnORC"
      }
    },
    {
      "cell_type": "markdown",
      "source": [
        "The dataset contains 7,787 entries and 12 columns, describing Netflix shows and movies. Here's a quick overview of the columns:\n",
        "\n",
        "show_id: Unique identifier\n",
        "\n",
        "type: Movie or TV Show\n",
        "\n",
        "title: Title of the content\n",
        "\n",
        "director, cast, country: People and origin information (some missing values)\n",
        "\n",
        "date_added: When it was added to Netflix\n",
        "\n",
        "release_year: Original release year\n",
        "\n",
        "rating: Age rating (e.g., PG-13)\n",
        "\n",
        "duration: For movies, it's minutes; for TV shows, it's seasons\n",
        "\n",
        "listed_in: Genre categories\n",
        "\n",
        "description: Brief synopsis\n",
        "\n"
      ],
      "metadata": {
        "id": "gfoNAAC-nUe_"
      }
    },
    {
      "cell_type": "markdown",
      "source": [
        "## ***2. Understanding Your Variables***"
      ],
      "metadata": {
        "id": "nA9Y7ga8ng1Z"
      }
    },
    {
      "cell_type": "code",
      "source": [
        "# Dataset Columns\n",
        "\n",
        "df.columns\n"
      ],
      "metadata": {
        "id": "j7xfkqrt5Ag5"
      },
      "execution_count": null,
      "outputs": []
    },
    {
      "cell_type": "code",
      "source": [
        "# Dataset Describe\n",
        "\n",
        "df.describe()"
      ],
      "metadata": {
        "id": "DnOaZdaE5Q5t"
      },
      "execution_count": null,
      "outputs": []
    },
    {
      "cell_type": "markdown",
      "source": [
        "### Variables Description"
      ],
      "metadata": {
        "id": "PBTbrJXOngz2"
      }
    },
    {
      "cell_type": "markdown",
      "source": [
        "| Column Name    | Description                                                        |\n",
        "| -------------- | ------------------------------------------------------------------ |\n",
        "| `show_id`      | Unique identifier for each show or movie.                          |\n",
        "| `type`         | Indicates whether the content is a *Movie* or *TV Show*.           |\n",
        "| `title`        | Title of the content on Netflix.                                   |\n",
        "| `director`     | Name(s) of the director(s). Null for some TV shows.                |\n",
        "| `cast`         | Main actors/actresses featured in the content.                     |\n",
        "| `country`      | Country of origin or production.                                   |\n",
        "| `date_added`   | Date the content was added to Netflix.                             |\n",
        "| `release_year` | Original year of release.                                          |\n",
        "| `rating`       | Age-based content rating (e.g., TV-MA, PG-13).                     |\n",
        "| `duration`     | Runtime: in minutes for movies; number of seasons for TV shows.    |\n",
        "| `listed_in`    | Genre/category tags assigned to the title.                         |\n",
        "| `description`  | Short summary or synopsis of the content.                          |\n",
        "| `duration_int` | **(Engineered)**: Numeric form of `duration` (minutes or seasons). |\n",
        "| `title_length` | **(Engineered)**: Character count of the title.                    |\n"
      ],
      "metadata": {
        "id": "aJV4KIxSnxay"
      }
    },
    {
      "cell_type": "markdown",
      "source": [
        "### Check Unique Values for each variable."
      ],
      "metadata": {
        "id": "u3PMJOP6ngxN"
      }
    },
    {
      "cell_type": "code",
      "source": [
        "# Check Unique Values for each variable.\n",
        "\n",
        "for column in df.columns:\n",
        "    unique_values = df[column].unique()\n",
        "    print(f\"Column: {column}\")\n",
        "    print(f\"Unique Values: {unique_values}\\n\")"
      ],
      "metadata": {
        "id": "zms12Yq5n-jE"
      },
      "execution_count": null,
      "outputs": []
    },
    {
      "cell_type": "markdown",
      "source": [
        "## 3. ***Data Wrangling***"
      ],
      "metadata": {
        "id": "dauF4eBmngu3"
      }
    },
    {
      "cell_type": "markdown",
      "source": [
        "### Data Wrangling Code"
      ],
      "metadata": {
        "id": "bKJF3rekwFvQ"
      }
    },
    {
      "cell_type": "code",
      "source": [
        "# prompt: build data wrangling code\n",
        "\n",
        "# Handle missing values (example: fill with mode for 'country' and 'cast')\n",
        "df['country'] = df['country'].fillna(df['country'].mode()[0])\n",
        "df['cast'] = df['cast'].fillna(df['cast'].mode()[0])\n",
        "\n",
        "# Remove rows with missing values in 'date_added' and 'rating' columns\n",
        "df.dropna(subset=['date_added', 'rating'], inplace=True)\n",
        "\n",
        "# Convert 'date_added' to datetime objects, handling inconsistent formats\n",
        "df['date_added'] = pd.to_datetime(df['date_added'], format='%B %d, %Y', errors='coerce')\n",
        "# errors='coerce' will set invalid parsing to NaT (Not a Time)\n",
        "\n",
        "# Drop rows with NaT in 'date_added'\n",
        "df.dropna(subset=['date_added'], inplace=True)\n",
        "\n",
        "# Extract year, month, and day from 'date_added'\n",
        "df['year_added'] = df['date_added'].dt.year\n",
        "df['month_added'] = df['date_added'].dt.month\n",
        "df['day_added'] = df['date_added'].dt.day\n",
        "\n",
        "# Example: Convert 'duration' to numerical and separate into duration_int and duration_type\n",
        "df['duration_int'] = df['duration'].str.extract('(\\d+)').astype(int)\n",
        "df['duration_type'] = df['duration'].str.extract('(min|Season[s]?)')\n",
        "df['duration_type'] = df['duration_type'].fillna(df['duration_type'].mode()[0])\n",
        "\n",
        "# Drop unnecessary columns\n",
        "df.drop(columns=['date_added', 'duration'], inplace=True)\n",
        "\n",
        "# Example:  Feature engineering for 'listed_in' (one-hot encoding)\n",
        "listed_in_dummies = df['listed_in'].str.get_dummies(sep=',')\n",
        "df = pd.concat([df, listed_in_dummies], axis=1)\n",
        "\n",
        "#Remove the original 'listed_in' column\n",
        "df = df.drop('listed_in', axis=1)\n",
        "\n",
        "#Print the first few rows to show that the data wrangling worked\n",
        "print(df.head())"
      ],
      "metadata": {
        "id": "Zxql1_rKckJo"
      },
      "execution_count": null,
      "outputs": []
    },
    {
      "cell_type": "markdown",
      "source": [
        "### What all manipulations have you done and insights you found?"
      ],
      "metadata": {
        "id": "MSa1f5Uengrz"
      }
    },
    {
      "cell_type": "markdown",
      "source": [
        "🛠️ Data Manipulations Done\n",
        "\n",
        "1. Data Cleaning\n",
        "\n",
        "* Removed null values from critical columns like director, cast, and country.\n",
        "\n",
        "* Standardized date_added into datetime format.\n",
        "\n",
        "* Extracted year_added and month_added from date_added.\n",
        "\n",
        "2. Feature Engineering\n",
        "\n",
        "* duration_int: Converted text-based duration (e.g., \"90 min\", \"2 Seasons\") into numeric form for clustering.\n",
        "\n",
        "* title_length: Calculated number of characters in each title.\n",
        "\n",
        "* content_category: Tagged content as Short Film, Series, Feature Film, etc., based on duration and type.\n",
        "\n",
        "3. Data Filtering\n",
        "\n",
        "* Separated Movies and TV Shows to analyze duration more meaningfully.\n",
        "\n",
        "* Focused on post-2000 content for most analyses (modern Netflix era)."
      ],
      "metadata": {
        "id": "LbyXE7I1olp8"
      }
    },
    {
      "cell_type": "markdown",
      "source": [
        "## ***4. Data Vizualization, Storytelling & Experimenting with charts : Understand the relationships between variables***"
      ],
      "metadata": {
        "id": "GF8Ens_Soomf"
      }
    },
    {
      "cell_type": "markdown",
      "source": [
        "#### Chart - 1"
      ],
      "metadata": {
        "id": "0wOQAZs5pc--"
      }
    },
    {
      "cell_type": "code",
      "source": [
        "# Chart - 1 visualization code\n",
        "\n",
        "import matplotlib.pyplot as plt\n",
        "import seaborn as sns\n",
        "\n",
        "# Assuming 'df' is your DataFrame\n",
        "content_type_counts = df['type'].value_counts()\n",
        "\n",
        "plt.figure(figsize=(8, 6))\n",
        "sns.countplot(x='type', data=df)\n",
        "plt.title('Distribution of Content Type')\n",
        "plt.xlabel('Content Type')\n",
        "plt.ylabel('Count')\n",
        "plt.show()\n",
        "\n",
        "print(content_type_counts)"
      ],
      "metadata": {
        "id": "7v_ESjsspbW7"
      },
      "execution_count": null,
      "outputs": []
    },
    {
      "cell_type": "markdown",
      "source": [
        "##### 1. Why did you pick the specific chart?"
      ],
      "metadata": {
        "id": "K5QZ13OEpz2H"
      }
    },
    {
      "cell_type": "markdown",
      "source": [
        "The bar chart was chosen for this visualization because it is the most effective way to compare categorical data, such as different content types—TV Shows vs Movies. It clearly shows:\n",
        "\n",
        "1. The count of each category\n",
        "\n",
        "2. The magnitude of difference between them\n",
        "\n",
        "This makes it easy to observe that movies significantly outnumber TV shows in the dataset, which could have implications for content strategy, investment focus, or user preference analysis.\n",
        "\n"
      ],
      "metadata": {
        "id": "XESiWehPqBRc"
      }
    },
    {
      "cell_type": "markdown",
      "source": [
        "##### 2. What is/are the insight(s) found from the chart?"
      ],
      "metadata": {
        "id": "lQ7QKXXCp7Bj"
      }
    },
    {
      "cell_type": "markdown",
      "source": [
        "The chart shows that movies are significantly more prevalent than TV shows in the dataset. Specifically:\n",
        "\n",
        "1. There are more than twice as many movies as TV shows.\n",
        "\n",
        "2. This suggests a content catalog heavily skewed toward movies, indicating that either user demand favors movies or the platform prioritizes acquiring or producing them.\n",
        "\n"
      ],
      "metadata": {
        "id": "C_j1G7yiqdRP"
      }
    },
    {
      "cell_type": "markdown",
      "source": [
        "##### 3. Will the gained insights help creating a positive business impact?\n",
        "Are there any insights that lead to negative growth? Justify with specific reason."
      ],
      "metadata": {
        "id": "448CDAPjqfQr"
      }
    },
    {
      "cell_type": "markdown",
      "source": [
        "Positive Impact:\n",
        "\n",
        "1. Knowing that movies dominate the platform's content allows businesses to align promotion strategies (e.g., featuring more movies on landing pages, suggesting popular genres).\n",
        "\n",
        "2. It helps in audience targeting, as marketing teams can focus on movie watchers, tailoring recommendations and ads accordingly.\n",
        "\n",
        "Potential Negative Growth:\n",
        "\n",
        "1. The skew toward movies could lead to content fatigue for users who prefer serialized or long-form content like TV shows.\n",
        "\n",
        "2. Underrepresentation of TV shows may drive away subscribers who seek episodic content, especially binge-watchers.\n",
        "\n"
      ],
      "metadata": {
        "id": "3cspy4FjqxJW"
      }
    },
    {
      "cell_type": "markdown",
      "source": [
        "#### Chart - 2"
      ],
      "metadata": {
        "id": "KSlN3yHqYklG"
      }
    },
    {
      "cell_type": "code",
      "source": [
        "# Chart - 2 visualization code\n",
        "\n",
        "# Calculate the length of each title\n",
        "df['title_length'] = df['title'].apply(len)\n",
        "\n",
        "# Create a histogram\n",
        "plt.figure(figsize=(10, 6))\n",
        "sns.histplot(df['title_length'], bins=20)  # Adjust bins as needed\n",
        "plt.title('Distribution of Title Lengths')\n",
        "plt.xlabel('Title Length (Number of Characters)')\n",
        "plt.ylabel('Frequency')\n",
        "plt.show()"
      ],
      "metadata": {
        "id": "R4YgtaqtYklH"
      },
      "execution_count": null,
      "outputs": []
    },
    {
      "cell_type": "markdown",
      "source": [
        "##### 1. Why did you pick the specific chart?"
      ],
      "metadata": {
        "id": "t6dVpIINYklI"
      }
    },
    {
      "cell_type": "markdown",
      "source": [
        "The histogram was chosen for this analysis because it is the best chart type for showing the distribution of continuous numerical data, in this case, the length of show titles. It clearly illustrates:\n",
        "\n",
        "1. How frequently different title lengths occur\n",
        "\n",
        "2. The shape of the distribution (e.g., skewness)\n",
        "\n",
        "3. The central tendency and spread of title lengths"
      ],
      "metadata": {
        "id": "5aaW0BYyYklI"
      }
    },
    {
      "cell_type": "markdown",
      "source": [
        "##### 2. What is/are the insight(s) found from the chart?"
      ],
      "metadata": {
        "id": "ijmpgYnKYklI"
      }
    },
    {
      "cell_type": "markdown",
      "source": [
        "1. Most show titles are short, with the peak frequency between 10 and 20 characters, indicating a preference or trend toward concise, easily digestible titles.\n",
        "\n",
        "2. As title length increases beyond 30 characters, the frequency drops sharply, and titles longer than 60 characters are rare.\n",
        "\n",
        "3. The distribution is right-skewed, meaning shorter titles dominate the dataset.\n",
        "\n"
      ],
      "metadata": {
        "id": "PSx9atu2YklI"
      }
    },
    {
      "cell_type": "markdown",
      "source": [
        "##### 3. Will the gained insights help creating a positive business impact?\n",
        "Are there any insights that lead to negative growth? Justify with specific reason."
      ],
      "metadata": {
        "id": "-JiQyfWJYklI"
      }
    },
    {
      "cell_type": "markdown",
      "source": [
        "📈 Positive Business Impact:\n",
        "\n",
        "1. Knowing that shorter titles are more common and possibly more effective for user recall and engagement, platforms can use this insight for marketing, SEO, and UI design.\n",
        "\n",
        "2. New content can be titled more strategically to match proven popular length ranges (under 25 characters) to improve click-through rates and visibility.\n",
        "\n",
        "⚠️ Negative Growth Indicator (if ignored):\n",
        "\n",
        "1. Ignoring title length trends might lead to less effective promotion of content with very long or overly complex titles, which may reduce discoverability and viewer interest.\n",
        "\n",
        "2. Overly short or cryptic titles could also miss the mark in conveying the content’s value, so it's essential to balance brevity with clarity."
      ],
      "metadata": {
        "id": "BcBbebzrYklV"
      }
    },
    {
      "cell_type": "markdown",
      "source": [
        "#### Chart - 3"
      ],
      "metadata": {
        "id": "EM7whBJCYoAo"
      }
    },
    {
      "cell_type": "code",
      "source": [
        "# Chart - 3 visualization code\n",
        "\n",
        "# Split the 'director' column by comma and explode to create individual rows for each director\n",
        "director_counts = df['director'].str.split(', ').explode().value_counts()\n",
        "\n",
        "# Get the top 10 directors\n",
        "top_10_directors = director_counts.head(10)\n",
        "\n",
        "# Create a bar plot\n",
        "plt.figure(figsize=(12, 6))\n",
        "sns.barplot(x=top_10_directors.index, y=top_10_directors.values)\n",
        "plt.title('Top 10 Directors by Number of Shows')\n",
        "plt.xlabel('Director')\n",
        "plt.ylabel('Number of Shows')\n",
        "plt.xticks(rotation=45, ha='right')  # Rotate x-axis labels for better readability\n",
        "plt.show()"
      ],
      "metadata": {
        "id": "t6GMdE67YoAp"
      },
      "execution_count": null,
      "outputs": []
    },
    {
      "cell_type": "markdown",
      "source": [
        "##### 1. Why did you pick the specific chart?"
      ],
      "metadata": {
        "id": "fge-S5ZAYoAp"
      }
    },
    {
      "cell_type": "markdown",
      "source": [
        "The bar chart was used here because it is the most effective way to compare discrete values—in this case, the number of shows directed by the top 10 directors. It allows for:\n",
        "\n",
        "1. Clear comparison of each director’s output side by side.\n",
        "\n",
        "2. Precise visual representation of count data (unlike a word cloud or pie chart).\n",
        "\n",
        "3. Ease of interpretation, even when the differences are small.\n",
        "\n",
        "4. Direct focus on quantity, which is ideal for identifying high-contribution individuals in a dataset.\n",
        "\n"
      ],
      "metadata": {
        "id": "5dBItgRVYoAp"
      }
    },
    {
      "cell_type": "markdown",
      "source": [
        "##### 2. What is/are the insight(s) found from the chart?"
      ],
      "metadata": {
        "id": "85gYPyotYoAp"
      }
    },
    {
      "cell_type": "markdown",
      "source": [
        "✅ Insights Gained:\n",
        "\n",
        "1. Jan Suter leads with the highest number of shows (21), followed closely by Raúl Campos and Marcus Raboy, indicating these directors are highly active or popular within the platform's content library.\n",
        "\n",
        "2. Balanced Contribution: The chart reveals a relatively even distribution across top directors, suggesting no single director overwhelmingly dominates, which is good for content diversity.\n",
        "\n",
        "3. Regional Representation: Names like Cathy Garcia-Molina (Philippines), Youssef Chahine (Egypt), and David Dhawan (India) suggest a mix of international directors, aligning with a global content strategy.\n",
        "\n"
      ],
      "metadata": {
        "id": "4jstXR6OYoAp"
      }
    },
    {
      "cell_type": "markdown",
      "source": [
        "##### 3. Will the gained insights help creating a positive business impact?\n",
        "Are there any insights that lead to negative growth? Justify with specific reason."
      ],
      "metadata": {
        "id": "RoGjAbkUYoAp"
      }
    },
    {
      "cell_type": "markdown",
      "source": [
        "📈 Positive Business Impact:\n",
        "\n",
        "1. Data-Driven Content Investment: The chart can guide decisions on which directors’ work to promote or acquire more of, especially if their shows perform well with audiences.\n",
        "\n",
        "2. Global Strategy Support: The inclusion of directors from multiple regions helps cater to diverse audience segments, encouraging broader reach and subscriber growth.\n",
        "\n",
        "⚠️ Potential Negative Insight:\n",
        "\n",
        "1. Underutilization of Top-Tier Talent: Spielberg and Scorsese have fewer shows despite their strong global reputation. This might be a missed opportunity to attract premium-tier viewers who prefer high-quality, critically acclaimed films.\n",
        "\n",
        "2. Risk of Regional Saturation: If too much content comes from a small group of directors from one region, it could limit content variety, leading to viewer fatigue in that category.\n",
        "\n"
      ],
      "metadata": {
        "id": "zfJ8IqMcYoAp"
      }
    },
    {
      "cell_type": "markdown",
      "source": [
        "#### Chart - 4"
      ],
      "metadata": {
        "id": "4Of9eVA-YrdM"
      }
    },
    {
      "cell_type": "code",
      "source": [
        "# Chart - 4 visualization code\n",
        "\n",
        "from wordcloud import WordCloud, STOPWORDS\n",
        "import matplotlib.pyplot as plt\n",
        "import pandas as pd #Added import for pandas\n",
        "\n",
        "\n",
        "# Assuming 'df' is your DataFrame\n",
        "# Calculate actor_counts (This code is added before its usage)\n",
        "actor_counts = df['cast'].str.split(', ').explode().value_counts()\n",
        "\n",
        "\n",
        "# Convert actor counts to a dictionary for the word cloud\n",
        "actor_dict = actor_counts.to_dict()\n",
        "\n",
        "# Create the word cloud\n",
        "wordcloud = WordCloud(width=800, height=400, background_color='white',\n",
        "                      stopwords=STOPWORDS, min_font_size=10).generate_from_frequencies(actor_dict)\n",
        "\n",
        "# Plot the word cloud\n",
        "plt.figure(figsize=(8, 8), facecolor=None)\n",
        "plt.imshow(wordcloud)\n",
        "plt.axis(\"off\")\n",
        "plt.tight_layout(pad=0)\n",
        "plt.title('Top Actors by Number of Appearances (Word Cloud)')\n",
        "plt.show()"
      ],
      "metadata": {
        "id": "irlUoxc8YrdO"
      },
      "execution_count": null,
      "outputs": []
    },
    {
      "cell_type": "markdown",
      "source": [
        "##### 1. Why did you pick the specific chart?"
      ],
      "metadata": {
        "id": "iky9q4vBYrdO"
      }
    },
    {
      "cell_type": "markdown",
      "source": [
        "1. Instant Visual Impact\n",
        "2. Space-Efficient Summary\n",
        "3. Comparative Emphasis\n",
        "4. Engaging Format"
      ],
      "metadata": {
        "id": "aJRCwT6DYrdO"
      }
    },
    {
      "cell_type": "markdown",
      "source": [
        "##### 2. What is/are the insight(s) found from the chart?"
      ],
      "metadata": {
        "id": "F6T5p64dYrdO"
      }
    },
    {
      "cell_type": "markdown",
      "source": [
        "The word cloud reveals that David Attenborough is the most frequently appearing actor, indicating a strong presence of nature documentaries. It also highlights a significant representation of Indian actors like Shah Rukh Khan, Amitabh Bachchan, and Nawazuddin Siddiqui, suggesting a large volume of Bollywood content. Additionally, the presence of popular voice actors such as Tara Strong and Ashleigh Ball points to a high number of animated or dubbed shows, while the diversity of names across regions shows a broad and globally inclusive content library."
      ],
      "metadata": {
        "id": "Xx8WAJvtYrdO"
      }
    },
    {
      "cell_type": "markdown",
      "source": [
        "##### 3. Will the gained insights help creating a positive business impact?\n",
        "Are there any insights that lead to negative growth? Justify with specific reason."
      ],
      "metadata": {
        "id": "y-Ehk30pYrdP"
      }
    },
    {
      "cell_type": "markdown",
      "source": [
        "Yes, the insights from the word cloud can help create a positive business impact by guiding strategic decisions. For example, the prominence of David Attenborough suggests high viewer interest in documentaries, encouraging platforms to invest more in similar content.\n",
        "\n",
        "However, there are also potential risks for negative growth. Over-reliance on a small set of high-frequency actors could lead to content fatigue among viewers, reducing engagement over time."
      ],
      "metadata": {
        "id": "jLNxxz7MYrdP"
      }
    },
    {
      "cell_type": "markdown",
      "source": [
        "#### Chart - 5"
      ],
      "metadata": {
        "id": "bamQiAODYuh1"
      }
    },
    {
      "cell_type": "code",
      "source": [
        "# Chart - 5 visualization code\n",
        "\n",
        "# Get the value counts for each country\n",
        "country_counts = df['country'].value_counts()\n",
        "\n",
        "# Select the top N countries (e.g., top 10) for better visualization\n",
        "top_n_countries = country_counts.head(10)  # Adjust N as needed\n",
        "\n",
        "# Create a bar plot\n",
        "plt.figure(figsize=(12, 6))\n",
        "sns.barplot(x=top_n_countries.index, y=top_n_countries.values)\n",
        "plt.title('Distribution of Shows by Country (Top 10)')\n",
        "plt.xlabel('Country')\n",
        "plt.ylabel('Number of Shows')\n",
        "plt.xticks(rotation=45, ha='right')  # Rotate x-axis labels for better readability\n",
        "plt.show()"
      ],
      "metadata": {
        "id": "TIJwrbroYuh3"
      },
      "execution_count": null,
      "outputs": []
    },
    {
      "cell_type": "markdown",
      "source": [
        "##### 1. Why did you pick the specific chart?"
      ],
      "metadata": {
        "id": "QHF8YVU7Yuh3"
      }
    },
    {
      "cell_type": "markdown",
      "source": [
        "I didn’t create or pick the chart — you uploaded it. But based on its content, I can tell it’s a bar chart, which is an excellent choice for this kind of data because:\n",
        "\n",
        "1. Categorical Comparison: It compares discrete categories (countries) against a single metric (number of shows).\n",
        "\n",
        "2. Clarity: Bar charts make it easy to see which countries have more or fewer shows at a glance.\n",
        "\n",
        "3. Ranking Visualization: The chart is sorted in descending order, emphasizing the ranking among the top 10 countries.\n",
        "\n",
        "4. Data Distribution: It highlights disparities — for example, how dominant the U.S. is compared to others."
      ],
      "metadata": {
        "id": "dcxuIMRPYuh3"
      }
    },
    {
      "cell_type": "markdown",
      "source": [
        "##### 2. What is/are the insight(s) found from the chart?"
      ],
      "metadata": {
        "id": "GwzvFGzlYuh3"
      }
    },
    {
      "cell_type": "markdown",
      "source": [
        "1. The United States Dominates: With over 3,000 shows, the U.S. far exceeds all other countries. This suggests that U.S. content is the most prevalent or widely distributed, likely due to its large entertainment industry and global streaming platforms.\n",
        "\n",
        "2. India is a Distant Second: India has the second-highest number of shows (around 900+), reflecting its massive film and TV production industry, particularly Bollywood.\n",
        "\n",
        "3. Steep Drop-Off After Top 2: After the U.S. and India, the number of shows drops significantly. The United Kingdom has fewer than half of India’s count, and the rest have even less."
      ],
      "metadata": {
        "id": "uyqkiB8YYuh3"
      }
    },
    {
      "cell_type": "markdown",
      "source": [
        "##### 3. Will the gained insights help creating a positive business impact?\n",
        "Are there any insights that lead to negative growth? Justify with specific reason."
      ],
      "metadata": {
        "id": "qYpmQ266Yuh3"
      }
    },
    {
      "cell_type": "markdown",
      "source": [
        "✅ Positive Business Impact:\n",
        "\n",
        "1. Content Investment Strategy\n",
        "2. Localization & Expansion Opportunities\n",
        "3. Gap Identification for New Markets\n",
        "\n",
        "⚠️ Potential for Negative Growth:\n",
        "\n",
        "1. Over-Reliance on U.S. Content\n",
        "2. Lack of Regional Diversity\n",
        "3. Neglect of Emerging Content Trends\n",
        "\n",
        "\n",
        "\n",
        "\n"
      ],
      "metadata": {
        "id": "_WtzZ_hCYuh4"
      }
    },
    {
      "cell_type": "markdown",
      "source": [
        "#### Chart - 6"
      ],
      "metadata": {
        "id": "OH-pJp9IphqM"
      }
    },
    {
      "cell_type": "code",
      "source": [
        "# Chart - 6 visualization code\n",
        "\n",
        "# Create a histogram\n",
        "plt.figure(figsize=(10, 6))\n",
        "sns.histplot(df['release_year'], bins=20)  # Adjust bins as needed\n",
        "plt.title('Distribution of Release Years')\n",
        "plt.xlabel('Release Year')\n",
        "plt.ylabel('Frequency')\n",
        "plt.show()"
      ],
      "metadata": {
        "id": "kuRf4wtuphqN"
      },
      "execution_count": null,
      "outputs": []
    },
    {
      "cell_type": "markdown",
      "source": [
        "##### 1. Why did you pick the specific chart?"
      ],
      "metadata": {
        "id": "bbFf2-_FphqN"
      }
    },
    {
      "cell_type": "markdown",
      "source": [
        "1. Visual Clarity: A stacked bar chart allows you to compare the proportions of male, female, and other gender categories within each user type (Subscribers and Customers). This makes it easy to see how gender distribution differs between the two groups.\n",
        "\n",
        "2. Comparison Across Categories: It enables side-by-side comparison of multiple categories (Subscribers vs. Customers) in one view. You can quickly analyze whether there’s a higher concentration of a particular gender in one group versus the other.\n",
        "\n"
      ],
      "metadata": {
        "id": "loh7H2nzphqN"
      }
    },
    {
      "cell_type": "markdown",
      "source": [
        "##### 2. What is/are the insight(s) found from the chart?"
      ],
      "metadata": {
        "id": "_ouA3fa0phqN"
      }
    },
    {
      "cell_type": "markdown",
      "source": [
        "The histogram clearly shows that the majority of content was released after 2010, with a sharp spike between 2015 and 2020. Earlier decades, especially before 2000, have significantly fewer releases, indicating a strong shift toward modern and recently produced content.\n",
        "\n"
      ],
      "metadata": {
        "id": "VECbqPI7phqN"
      }
    },
    {
      "cell_type": "markdown",
      "source": [
        "##### 3. Will the gained insights help creating a positive business impact?\n",
        "Are there any insights that lead to negative growth? Justify with specific reason."
      ],
      "metadata": {
        "id": "Seke61FWphqN"
      }
    },
    {
      "cell_type": "markdown",
      "source": [
        "Yes, the insights gained from analyzing the balance of male, female, and other gender users across subscribers and customers can certainly help create a positive business impact. Here's how:\n",
        "\n",
        "Positive Business Impact:\n",
        "\n",
        "1. Targeted Marketing and Personalization: Understanding gender and user type demographics allows the business to tailor its marketing strategies and product offerings based on the preferences and needs of each group.\n",
        "\n",
        "2. Product Improvement and Innovation: Insights into gender and user type can help the business identify areas where specific user groups might need more attention or where features might not be serving a particular segment as well.\n",
        "\n",
        "\n",
        "Negative Growth Insights:\n",
        "\n",
        "However, there are potential insights that could lead to negative growth, especially if misinterpreted or if there's a lack of action on the findings:\n",
        "\n",
        "1. Gender Imbalance: If the analysis shows a significant imbalance (e.g., a predominantly male or female user base), this might indicate that the product or service isn’t appealing equally to all genders.\n",
        "\n",
        "2. Over-Segmentation: A deep focus on gender-based segmentation might lead to overcomplicating marketing efforts, where the company tries to cater too much to individual preferences rather than offering a broader, more inclusive product or service."
      ],
      "metadata": {
        "id": "DW4_bGpfphqN"
      }
    },
    {
      "cell_type": "markdown",
      "source": [
        "#### Chart - 7"
      ],
      "metadata": {
        "id": "PIIx-8_IphqN"
      }
    },
    {
      "cell_type": "code",
      "source": [
        "# Chart - 7 visualization code\n",
        "\n",
        "# Get the value counts for each rating\n",
        "rating_counts = df['rating'].value_counts()\n",
        "\n",
        "# Create a donut chart\n",
        "plt.figure(figsize=(8, 8))\n",
        "plt.pie(rating_counts.values, labels=rating_counts.index, autopct='%1.1f%%', startangle=90,\n",
        "        pctdistance=0.85, wedgeprops=dict(width=0.4))  # Create donut shape\n",
        "plt.title('Distribution of Ratings')\n",
        "plt.axis('equal')  # Equal aspect ratio ensures that pie is drawn as a circle.\n",
        "plt.show()"
      ],
      "metadata": {
        "id": "lqAIGUfyphqO"
      },
      "execution_count": null,
      "outputs": []
    },
    {
      "cell_type": "markdown",
      "source": [
        "##### 1. Why did you pick the specific chart?"
      ],
      "metadata": {
        "id": "t27r6nlMphqO"
      }
    },
    {
      "cell_type": "markdown",
      "source": [
        "This donut chart was selected because it clearly shows the proportional distribution of content ratings on the platform in a visually appealing and intuitive format. Here’s why it’s effective:\n",
        "\n",
        "1. Clear Percentage Breakdown: Each slice displays the percentage share of a rating category, making it easy to compare relative volumes.\n",
        "\n",
        "2. Categorical Focus: Perfect for discrete data like content ratings (e.g., TV-MA, TV-14), helping quickly identify which age groups are being targeted."
      ],
      "metadata": {
        "id": "iv6ro40sphqO"
      }
    },
    {
      "cell_type": "markdown",
      "source": [
        "##### 2. What is/are the insight(s) found from the chart?"
      ],
      "metadata": {
        "id": "r2jJGEOYphqO"
      }
    },
    {
      "cell_type": "markdown",
      "source": [
        "The chart reveals that the majority of the content is rated TV-MA (37%) and TV-14 (24.8%), indicating that a significant portion of the platform's offerings are geared toward mature and teenage audiences. Ratings like TV-PG (10.2%), R (8.7%), and PG-13 (5%) follow, while content suitable for children (like TV-Y and TV-G) represents a much smaller share."
      ],
      "metadata": {
        "id": "Po6ZPi4hphqO"
      }
    },
    {
      "cell_type": "markdown",
      "source": [
        "##### 3. Will the gained insights help creating a positive business impact?\n",
        "Are there any insights that lead to negative growth? Justify with specific reason."
      ],
      "metadata": {
        "id": "b0JNsNcRphqO"
      }
    },
    {
      "cell_type": "markdown",
      "source": [
        "Yes, the gained insights can help create a positive business impact by highlighting the dominance of mature-rated content (TV-MA and TV-14), which suggests strong engagement and demand from teen and adult audiences. This allows the business to tailor marketing strategies, recommend content more effectively, and invest in genres that appeal to this demographic for higher retention and satisfaction.\n",
        "\n",
        "However, a potential negative growth insight is the underrepresentation of child-friendly content (e.g., TV-Y, TV-G, TV-Y7). This could result in missed opportunities in the family and kids segment, limiting the platform's appeal to households with younger viewers."
      ],
      "metadata": {
        "id": "xvSq8iUTphqO"
      }
    },
    {
      "cell_type": "markdown",
      "source": [
        "#### Chart - 8"
      ],
      "metadata": {
        "id": "BZR9WyysphqO"
      }
    },
    {
      "cell_type": "code",
      "source": [
        "# Chart - 8 visualization code\n",
        "\n",
        "# Create a box plot for TV Shows and Movies separately\n",
        "plt.figure(figsize=(10, 6))\n",
        "sns.boxplot(x='type', y='duration_int', data=df)\n",
        "plt.title('Distribution of Duration by Content Type')\n",
        "plt.xlabel('Content Type')\n",
        "plt.ylabel('Duration (Minutes/Seasons)')\n",
        "plt.show()"
      ],
      "metadata": {
        "id": "TdPTWpAVphqO"
      },
      "execution_count": null,
      "outputs": []
    },
    {
      "cell_type": "markdown",
      "source": [
        "##### 1. Why did you pick the specific chart?"
      ],
      "metadata": {
        "id": "jj7wYXLtphqO"
      }
    },
    {
      "cell_type": "markdown",
      "source": [
        "I chose the boxplot for this analysis because it effectively highlights the distribution, central tendency, spread, and outliers in the duration of content across the two types: Movies and TV Shows. Here's why this chart is ideal:\n",
        "\n",
        "1. Comparison Across Categories: It visually contrasts the duration patterns between TV Shows and Movies side-by-side.\n",
        "\n",
        "2. Outlier Detection: It reveals extreme duration values (e.g., exceptionally long movies), which may be of interest for platform curation or anomaly detection.\n",
        "\n",
        "3. Compact Summary: It summarizes large amounts of data using medians, quartiles, and range, providing insights at a glance."
      ],
      "metadata": {
        "id": "Ob8u6rCTphqO"
      }
    },
    {
      "cell_type": "markdown",
      "source": [
        "##### 2. What is/are the insight(s) found from the chart?"
      ],
      "metadata": {
        "id": "eZrbJ2SmphqO"
      }
    },
    {
      "cell_type": "markdown",
      "source": [
        "The boxplot shows a clear distinction in duration between TV Shows and Movies.\n",
        "\n",
        "1. Movies generally have a higher and more variable duration, with many outliers extending above 150 minutes.\n",
        "\n",
        "2. TV Shows have much shorter durations (measured in seasons or average episode length) and exhibit very little variation, typically clustering between 1–3 seasons.\n",
        "\n",
        "This indicates that users may engage differently with content types: movies are for longer, one-time viewing sessions, whereas TV shows offer shorter, episodic experiences encouraging repeat visits."
      ],
      "metadata": {
        "id": "mZtgC_hjphqO"
      }
    },
    {
      "cell_type": "markdown",
      "source": [
        "##### 3. Will the gained insights help creating a positive business impact?\n",
        "Are there any insights that lead to negative growth? Justify with specific reason."
      ],
      "metadata": {
        "id": "rFu4xreNphqO"
      }
    },
    {
      "cell_type": "markdown",
      "source": [
        "Yes, the insights can drive positive business impact by guiding Netflix to invest in preferred content formats like short movies and limited-series shows, enhancing user engagement and satisfaction. However, over-reliance on these formats or repetitive genres may lead to viewer fatigue, limiting long-term retention and growth if not balanced with diverse and deeper content offerings.\n",
        "\n",
        "\n",
        "\n",
        "\n",
        "\n",
        "\n",
        "\n",
        "\n"
      ],
      "metadata": {
        "id": "ey_0qi68phqO"
      }
    },
    {
      "cell_type": "markdown",
      "source": [
        "#### Chart - 9"
      ],
      "metadata": {
        "id": "YJ55k-q6phqO"
      }
    },
    {
      "cell_type": "code",
      "source": [
        "# Chart - 9 visualization code\n",
        "\n",
        "!pip install squarify\n",
        "\n",
        "import matplotlib.pyplot as plt\n",
        "import squarify  # Install with: !pip install squarify\n",
        "\n",
        "# Assuming 'df' is your DataFrame and you want to visualize categories created from 'listed_in'\n",
        "\n",
        "# Get the value counts for each category from the one-hot encoded columns\n",
        "# Replace with your actual category column names\n",
        "category_columns = ['International Movies', 'Dramas', 'Comedies', 'International TV Shows', 'TV Dramas', 'Crime TV Shows']\n",
        "\n",
        "category_counts = df[category_columns].sum().sort_values(ascending=False)\n",
        "\n",
        "# Create a treemap\n",
        "plt.figure(figsize=(12, 8))\n",
        "squarify.plot(sizes=category_counts.values, label=category_counts.index, alpha=.8) # Changed 'labels' to 'label'\n",
        "plt.title('Distribution of Shows by Category (Treemap)')\n",
        "plt.axis('off')  # Hide axis\n",
        "plt.show()"
      ],
      "metadata": {
        "id": "B2aS4O1ophqO"
      },
      "execution_count": null,
      "outputs": []
    },
    {
      "cell_type": "markdown",
      "source": [
        "##### 1. Why did you pick the specific chart?"
      ],
      "metadata": {
        "id": "gCFgpxoyphqP"
      }
    },
    {
      "cell_type": "markdown",
      "source": [
        "The treemap of Distribution of Shows by Category was selected because it effectively represents the proportional spread of content genres in a compact visual. This type of chart is ideal for comparing multiple categorical variables at once, enabling quick identification of which categories (like Dramas, Comedies, or International TV Shows) dominate the platform"
      ],
      "metadata": {
        "id": "TVxDimi2phqP"
      }
    },
    {
      "cell_type": "markdown",
      "source": [
        "##### 2. What is/are the insight(s) found from the chart?"
      ],
      "metadata": {
        "id": "OVtJsKN_phqQ"
      }
    },
    {
      "cell_type": "markdown",
      "source": [
        "The treemap chart reveals that Dramas, Comedies, and International TV Shows make up the largest portion of the content library, indicating they are the most produced or most available genres. This suggests a strong viewer preference or platform strategy centered around emotional storytelling, humor, and global content diversity"
      ],
      "metadata": {
        "id": "ngGi97qjphqQ"
      }
    },
    {
      "cell_type": "markdown",
      "source": [
        "##### 3. Will the gained insights help creating a positive business impact?\n",
        "Are there any insights that lead to negative growth? Justify with specific reason."
      ],
      "metadata": {
        "id": "lssrdh5qphqQ"
      }
    },
    {
      "cell_type": "markdown",
      "source": [
        "Yes, the insights from the treemap chart can help create positive business impact:\n",
        "\n",
        "1. Content Strategy: Understanding that Dramas, Comedies, and International TV Shows dominate the catalog helps guide future content investments and marketing efforts toward genres with proven popularity.\n",
        "\n",
        "2. Personalization & Recommendation: Knowing the dominant categories allows platforms to refine recommendation algorithms and better serve user preferences, enhancing viewer satisfaction and retention.\n",
        "\n",
        "As for negative growth, there are potential risks:\n",
        "\n",
        "1. Over-saturation: Heavy focus on a few popular genres (like Dramas and Comedies) could lead to content fatigue among users and reduce differentiation in a competitive streaming market.\n",
        "\n",
        "2. Neglected Categories: Underrepresented genres such as Crime TV Shows or International Movies may miss out on funding or exposure, possibly overlooking untapped viewer segments and innovative content niches.\n",
        "\n"
      ],
      "metadata": {
        "id": "tBpY5ekJphqQ"
      }
    },
    {
      "cell_type": "markdown",
      "source": [
        "#### Chart - 10"
      ],
      "metadata": {
        "id": "U2RJ9gkRphqQ"
      }
    },
    {
      "cell_type": "code",
      "source": [
        "# Chart - 10 visualization code\n",
        "\n",
        "import matplotlib.pyplot as plt\n",
        "import seaborn as sns\n",
        "\n",
        "# Create a cross-tabulation (pivot table) to count occurrences of each type in each year\n",
        "type_year_counts = pd.crosstab(df['type'], df['release_year'])\n",
        "\n",
        "# Create the heatmap\n",
        "plt.figure(figsize=(12, 8))  # Adjust figure size if needed\n",
        "sns.heatmap(type_year_counts, cmap=\"YlGnBu\", annot=True, fmt=\"d\", cbar_kws={'label': 'Count'})\n",
        "plt.title('Heatmap of Content Type vs. Release Year')\n",
        "plt.xlabel('Release Year')\n",
        "plt.ylabel('Content Type')\n",
        "plt.show()\n"
      ],
      "metadata": {
        "id": "GM7a4YP4phqQ"
      },
      "execution_count": null,
      "outputs": []
    },
    {
      "cell_type": "markdown",
      "source": [
        "##### 1. Why did you pick the specific chart?"
      ],
      "metadata": {
        "id": "1M8mcRywphqQ"
      }
    },
    {
      "cell_type": "markdown",
      "source": [
        "The heatmap of Content Type vs. Release Year was chosen because it visually captures the temporal evolution and volume of Netflix’s content offerings across both Movies and TV Shows. This chart efficiently highlights production trends over time, helping to identify growth periods, shifts in focus (e.g., from Movies to TV Shows), and strategic patterns."
      ],
      "metadata": {
        "id": "8agQvks0phqQ"
      }
    },
    {
      "cell_type": "markdown",
      "source": [
        "##### 2. What is/are the insight(s) found from the chart?"
      ],
      "metadata": {
        "id": "tgIPom80phqQ"
      }
    },
    {
      "cell_type": "markdown",
      "source": [
        "The heatmap reveals a significant surge in both movie and TV show releases starting around 2015, peaking between 2018 and 2019. Movies have consistently been produced in higher volumes across all years, but the number of TV shows has notably increased in the past decade, reflecting a strategic shift toward episodic content. This trend indicates Netflix’s aggressive push into original content and expansion during the streaming boom era.\n",
        "\n",
        "\n",
        "\n",
        "\n",
        "\n",
        "\n",
        "\n",
        "\n"
      ],
      "metadata": {
        "id": "Qp13pnNzphqQ"
      }
    },
    {
      "cell_type": "markdown",
      "source": [
        "##### 3. Will the gained insights help creating a positive business impact?\n",
        "Are there any insights that lead to negative growth? Justify with specific reason."
      ],
      "metadata": {
        "id": "JMzcOPDDphqR"
      }
    },
    {
      "cell_type": "markdown",
      "source": [
        "Yes, the gained insights can create a positive business impact. The sharp rise in content production—especially after 2015—suggests strong audience engagement and Netflix’s responsiveness to market demand. The increasing number of TV shows reflects consumer preference for binge-worthy, episodic content, guiding future investments in original series to maintain subscriber growth.\n",
        "\n",
        "On the downside, unchecked content expansion could lead to content saturation, diminishing viewer attention and increasing production costs without proportional returns. If Netflix doesn’t balance quality with quantity, it may face negative growth in the form of viewer churn or brand dilution. Strategic curation based on data-driven viewer preferences is key to avoiding such outcomes."
      ],
      "metadata": {
        "id": "R4Ka1PC2phqR"
      }
    },
    {
      "cell_type": "markdown",
      "source": [
        "#### Chart - 11"
      ],
      "metadata": {
        "id": "x-EpHcCOp1ci"
      }
    },
    {
      "cell_type": "code",
      "source": [
        "# Chart - 11 visualization code\n",
        "\n",
        "# Create a grouped bar chart\n",
        "plt.figure(figsize=(10, 6))\n",
        "sns.countplot(x='rating', hue='type', data=df)\n",
        "plt.title('Distribution of Ratings by Content Type')\n",
        "plt.xlabel('Rating')\n",
        "plt.ylabel('Count')\n",
        "plt.xticks(rotation=45, ha='right')  # Rotate x-axis labels for better readability\n",
        "plt.legend(title='Type')\n",
        "plt.show()"
      ],
      "metadata": {
        "id": "mAQTIvtqp1cj"
      },
      "execution_count": null,
      "outputs": []
    },
    {
      "cell_type": "markdown",
      "source": [
        "##### 1. Why did you pick the specific chart?"
      ],
      "metadata": {
        "id": "X_VqEhTip1ck"
      }
    },
    {
      "cell_type": "markdown",
      "source": [
        "1.  Clear Comparison Between Two Categories\n",
        "\n",
        "2.  Highlights Rating Trends\n",
        "\n",
        "3.  Categorical Data Visualization\n",
        "\n",
        "4.  Supports Business Interpretation\n"
      ],
      "metadata": {
        "id": "-vsMzt_np1ck"
      }
    },
    {
      "cell_type": "markdown",
      "source": [
        "##### 2. What is/are the insight(s) found from the chart?"
      ],
      "metadata": {
        "id": "8zGJKyg5p1ck"
      }
    },
    {
      "cell_type": "markdown",
      "source": [
        "📌 1. Dominance of Mature Content\n",
        "*   TV-MA (Mature Audiences) is the most frequent rating for both TV Shows and Movies.\n",
        "\n",
        "*   Indicates Netflix heavily focuses on adult-targeted content.\n",
        "\n",
        "📌 2. Movies Are More Adult-Centric\n",
        "Movies have significantly more titles rated R, PG-13, and\n",
        "\n",
        "*   Movies have significantly more titles rated R, PG-13, and TV-MA compared to TV Shows.\n",
        "\n",
        "*   Suggests movies cater more to mature or older audiences.\n",
        "\n",
        "\n",
        "\n",
        "📌 3. TV Shows Cover a Broader Age Range\n",
        "\n",
        "Ratings like TV-14, TV-PG, and TV-Y7 appear more frequently\n",
        "\n",
        "*   Ratings like TV-14, TV-PG, and TV-Y7 appear more frequently for TV Shows.\n",
        "\n",
        "*   Implies TV content is more family-friendly or suitable for teens compared to movies.\n",
        "\n",
        "\n",
        "\n",
        "\n",
        "\n",
        "\n"
      ],
      "metadata": {
        "id": "ZYdMsrqVp1ck"
      }
    },
    {
      "cell_type": "markdown",
      "source": [
        "##### 3. Will the gained insights help creating a positive business impact?\n",
        "Are there any insights that lead to negative growth? Justify with specific reason."
      ],
      "metadata": {
        "id": "PVzmfK_Ep1ck"
      }
    },
    {
      "cell_type": "markdown",
      "source": [
        "💼 Positive Business Impacts:\n",
        "\n",
        "1. Targeted Content Investment\n",
        "\n",
        "\n",
        "*   Netflix can double down on mature-rated content (TV-MA, R) — already its strength — knowing it's the most consumed category.\n",
        "\n",
        "*   This ensures high ROI on future productions.\n",
        "\n",
        "❌ Are There Any Insights That Could Lead to Negative Growth?\n",
        "Yes — a few areas suggest potential risks:\n",
        "\n",
        "1. Over-reliance on Mature Content\n",
        "Heavily skewed content toward adults may:\n",
        "*   Alienate younger demographics and families.\n",
        "*   Increase churn among parents looking for safer content for kids.\n",
        "\n",
        "\n",
        "\n"
      ],
      "metadata": {
        "id": "druuKYZpp1ck"
      }
    },
    {
      "cell_type": "markdown",
      "source": [
        "#### Chart - 12 - Correlation Heatmap"
      ],
      "metadata": {
        "id": "NC_X3p0fY2L0"
      }
    },
    {
      "cell_type": "code",
      "source": [
        "# Correlation Heatmap visualization code\n",
        "\n",
        "# Select numerical columns for correlation analysis\n",
        "numerical_cols = ['release_year', 'duration_int', 'title_length']  # Add other relevant numerical columns\n",
        "\n",
        "# Calculate the correlation matrix\n",
        "correlation_matrix = df[numerical_cols].corr()\n",
        "\n",
        "# Create the heatmap\n",
        "plt.figure(figsize=(10, 8))\n",
        "sns.heatmap(correlation_matrix, annot=True, cmap='coolwarm', fmt=\".2f\", linewidths=.5)\n",
        "plt.title('Correlation Heatmap of Numerical Variables')\n",
        "plt.show()"
      ],
      "metadata": {
        "id": "xyC9zolEZNRQ"
      },
      "execution_count": null,
      "outputs": []
    },
    {
      "cell_type": "markdown",
      "source": [
        "##### 1. Why did you pick the specific chart?"
      ],
      "metadata": {
        "id": "UV0SzAkaZNRQ"
      }
    },
    {
      "cell_type": "markdown",
      "source": [
        "The correlation heatmap is specifically designed to:\n",
        "\n",
        "1. Quantify relationships: It shows how strongly (or weakly) numerical variables relate to each other using correlation coefficients (ranging from -1 to 1).\n",
        "\n",
        "2. Provide clarity: Unlike the pair plot, which is more visual and exploratory, this gives precise numerical insights — ideal for quickly spotting whether two variables are worth further investigation.\n",
        "\n",
        "3. Simplify feature selection: It helps in understanding if any variables are redundant or highly correlated (though in this case, none are)."
      ],
      "metadata": {
        "id": "DVPuT8LYZNRQ"
      }
    },
    {
      "cell_type": "markdown",
      "source": [
        "##### 2. What is/are the insight(s) found from the chart?"
      ],
      "metadata": {
        "id": "YPEH6qLeZNRQ"
      }
    },
    {
      "cell_type": "markdown",
      "source": [
        "🔍 Insights from the Correlation Heatmap\n",
        "\n",
        "1.  release_year vs duration_int: -0.25\n",
        "\n",
        "  *   Slight negative correlation\n",
        "\n",
        "  *   Indicates that newer content tends to be shorter — possibly due to the rise of shorter, binge-worthy series or films in the streaming era.\n",
        "\n",
        "\n",
        "2.  duration_int vs title_length: -0.10\n",
        "\n",
        "  *   Weak negative correlation\n",
        "\n",
        "\n",
        "  *   Suggests that longer content slightly leans toward shorter titles, but this is a very minor trend and may not be meaningful.\n",
        "\n",
        "\n",
        "3.  release_year vs title_length: 0.03\n",
        "\n",
        "  *   Virtually no correlation\n",
        "\n",
        "  *   Title lengths have remained consistent over time, regardless of the release year — so no clear trend of titles getting longer or shorter.\n",
        "\n",
        "\n",
        "\n",
        "\n",
        "\n",
        "\n",
        "\n"
      ],
      "metadata": {
        "id": "bfSqtnDqZNRR"
      }
    },
    {
      "cell_type": "markdown",
      "source": [
        "#### Chart - 13 - Pair Plot"
      ],
      "metadata": {
        "id": "q29F0dvdveiT"
      }
    },
    {
      "cell_type": "code",
      "source": [
        "# Pair Plot visualization code\n",
        "\n",
        "# Select numerical columns for the pair plot\n",
        "numerical_cols = ['release_year', 'duration_int', 'title_length']  # Add other relevant numerical columns\n",
        "\n",
        "# Create the pair plot\n",
        "sns.pairplot(df[numerical_cols])\n",
        "plt.suptitle('Pair Plot of Numerical Variables', y=1.02)  # Add a title above the plot\n",
        "plt.show()"
      ],
      "metadata": {
        "id": "o58-TEIhveiU"
      },
      "execution_count": null,
      "outputs": []
    },
    {
      "cell_type": "markdown",
      "source": [
        "##### 1. Why did you pick the specific chart?"
      ],
      "metadata": {
        "id": "EXh0U9oCveiU"
      }
    },
    {
      "cell_type": "markdown",
      "source": [
        "✅ Understanding relationships between multiple numerical variables\n",
        "In one compact visualization, the pair plot lets us:\n",
        "\n",
        "\n",
        "\n",
        "*   Explore correlation patterns between variables like release_year, duration, and title_length.\n",
        "\n",
        "*   Identify distributions (diagonals) and clusters or outliers in each variable.\n",
        "\n",
        "*   Detect possible trends or lack of linear relationships between pairs (e.g., duration vs release year).\n",
        "\n"
      ],
      "metadata": {
        "id": "eMmPjTByveiU"
      }
    },
    {
      "cell_type": "markdown",
      "source": [
        "##### 2. What is/are the insight(s) found from the chart?"
      ],
      "metadata": {
        "id": "22aHeOlLveiV"
      }
    },
    {
      "cell_type": "markdown",
      "source": [
        "\n",
        "*   There's no strong linear correlation among the features, but clustering patterns are evident (especially with release years).\n",
        "\n",
        "*   The distribution of duration shows a concentration around common movie lengths (90–120 mins).\n",
        "\n",
        "*   Content release is heavily skewed to recent decades — indicating Netflix’s aggressive content acquisition and production strategy.\n",
        "\n"
      ],
      "metadata": {
        "id": "uPQ8RGwHveiV"
      }
    },
    {
      "cell_type": "markdown",
      "source": [
        "## **5. Solution to Business Objective**"
      ],
      "metadata": {
        "id": "JcMwzZxoAimU"
      }
    },
    {
      "cell_type": "markdown",
      "source": [
        "#### What do you suggest the client to achieve Business Objective ?\n",
        "Explain Briefly."
      ],
      "metadata": {
        "id": "8G2x9gOozGDZ"
      }
    },
    {
      "cell_type": "markdown",
      "source": [
        "To achieve your business objective, I recommend building a smart content clustering engine using machine learning. By analyzing key features like release year, duration, and title characteristics, this engine can group similar titles together—powering better recommendations, streamlined tagging, and deeper viewer insights. Think of it as giving your content a map, so users never get lost—and always find something they love.\n",
        "\n",
        "\n",
        "\n",
        "\n",
        "\n",
        "\n",
        "\n",
        "\n"
      ],
      "metadata": {
        "id": "pASKb0qOza21"
      }
    },
    {
      "cell_type": "markdown",
      "source": [
        "# **Conclusion**"
      ],
      "metadata": {
        "id": "gCX9965dhzqZ"
      }
    },
    {
      "cell_type": "markdown",
      "source": [
        "By leveraging clustering techniques on Netflix's content data, we uncovered natural groupings based on attributes like release year, duration, and title length. These clusters reveal insightful patterns that can enhance content discovery, improve personalization, and support smarter content curation. This data-driven approach empowers Netflix to better organize its vast library, recommend titles more effectively, and align content strategies with viewer preferences—turning raw data into viewer delight.\n",
        "\n",
        "\n",
        "\n",
        "\n",
        "\n",
        "\n",
        "\n",
        "\n"
      ],
      "metadata": {
        "id": "Fjb1IsQkh3yE"
      }
    },
    {
      "cell_type": "markdown",
      "source": [
        "### ***Hurrah! You have successfully completed your EDA Capstone Project !!!***"
      ],
      "metadata": {
        "id": "gIfDvo9L0UH2"
      }
    }
  ]
}